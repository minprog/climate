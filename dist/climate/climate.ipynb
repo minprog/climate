{
 "cells": [
  {
   "cell_type": "markdown",
   "metadata": {},
   "source": [
    "# Climate\n",
    "\n",
    "![](temperature.png)\n",
    "\n",
    "Laten we een steentje bijdragen aan de klimaatdiscussie en data analyseren die door de ECA (European Climate Assessment) [beschikbaar](http://eca.knmi.nl/dailydata/predefinedseries.php) wordt gemaakt in grote data files. We beperken ons tot data die de maximumtemperatuur beschrijft voor elke dag in De Bilt sinds 1901.\n",
    "\n",
    "Werp eerst eens een blik op `climate.txt` (kies hierboven File->Open) en lees bovenin hoe de data gecodeerd is. Juist door deze toelichting voldoet het bestand nou nét niet helemaal aan het CSV-formaat. Die uitleg is heel handig voor mensen, maar niet voor computers.\n",
    "\n",
    "We willen onze data in het CSV-formaat krijgen. Dat is een fijn formaat voor o.a. Excel, maar ook om op een makkelijke manier bestanden in te lezen met Python. De naam *comma separated values* zegt het al: alle gegevens in dit formaat zijn gescheiden door een komma.\n",
    "\n",
    "We gaan hieronder drie dingen doen:\n",
    "\n",
    "1. het originele databestand opschonen en converteren naar een \"echte\" CSV\n",
    "2. alle data inlezen vanuit de CSV\n",
    "3. op basis van de data een aantal vragen beantwoorden\n",
    "\n",
    "## Probleemanalyse\n",
    "\n",
    "Voordat je gaat implementeren moet je voor alle onderdelen van de opdracht een probleemanalyse doen. Je hebt je databestand van ons gekregen, dus je weet hoe het eruit ziet. Allereerst moet je zorgvuldig analyseren wat het verschil is tussen het databestand en het gewenste CSV-bestand. Je kunt daarna ook eerst aan de slag met de analyse van de vragen die je inhoudelijk moet beantwoorden met hulp van de data. Zonder programmeren moet je al een algoritme kunnen formuleren voor hoe je elk van deze vragen kunt beantwoorden."
   ]
  },
  {
   "cell_type": "markdown",
   "metadata": {},
   "source": [
    "## Import\n",
    "\n",
    "Om te beginnen vind je hier de import waarmee we straks de CSV-functionaliteit kunnen gebruiken. Zorg dat je de cel \"runt\" om te starten: selecteer de cel en klik hierboven op **Run**."
   ]
  },
  {
   "cell_type": "code",
   "execution_count": 1,
   "metadata": {},
   "outputs": [],
   "source": [
    "import csv\n",
    "import math\n",
    "import numpy as np\n",
    "import matplotlib.pyplot as plt\n",
    "import seaborn as sns"
   ]
  },
  {
   "cell_type": "markdown",
   "metadata": {},
   "source": [
    "## Preprocessing\n",
    "\n",
    "Zoals gezegd zit het data bestand op een eigenwijze, niet-standaard manier in elkaar. Dat betekent dat we niet direct gebruik kunnen maken van de CSV-modules om data in te lezen en te verwerken. We zullen deze eerst moeten opschonen (preprocessing), en dan de data weer in het gewenste formaat wegschrijven. Uiteindelijk zullen we climate.txt omzetten naar een zogenaamd comma-separated-values bestand, waarin afzonderlijke waarden van elkaar gescheiden worden door komma's. Dat is een type bestand waarvoor in python veel functies zijn ingebouwd (in de library 'csv'). Ook veel andere programma's en programmeertalen, waaronder Excel, accepteren csv-bestanden als één van de standaardmanieren om data-bestanden op te slaan.\n",
    "\n",
    "Om dit deel van de opdracht te doen moet je gebruik maken van de functies die uitgelegd zijn op de IO-uitleg van de website: <https://progik.mprog.nl/theory/io>.\n",
    "\n",
    "Het gewenste formaat van een csv-bestand ziet er als volgt uit. De eerste regel moet de **namen** van alle kolommen bevatten, gescheiden door een komma. De volgende regels moeten alle datapunten bevatten, elk op één regel, waarbij alle waardes weer gescheiden worden door een komma.\n",
    "\n",
    "Maar voordat we onze data op kunnen slaan in dit formaat, kijken we eerst zorgvuldig naar de data. Bestudeer hiervoor de file climate.txt via de start-omgeving van Jupyter Notebooks. Het bestand 'climate.txt' staat in dezelfde folder als dit notebook.\n",
    "\n",
    "Wat meteen opvalt is dat het bestand begint met een header, die van pas komt bij het interpreteren van het bestand. De header bevat informatie over waar de data vandaan komt, maar ook over de betekenis van de variabelen. Voor een computer is de data helaas niet eenduidig te interpreteren. We besluiten daarom de header weg te halen, zodat de file begint met de variabelenamen.\n",
    "\n",
    "Schrijf in onderstaande cell een functie die `climate.txt` opent, inleest, en wegschrijft als `climate2.txt`. Zorg dat de eerste rij bestaat uit de kolomnamen, en de rijen daarop volgend uit alle waardes.\n",
    "\n",
    "**Hint:** om een regel over te slaan moet je deze wél inlezen maar niet wegschrijven. Je programma hoeft overigens niet met alle willekeurige databestanden werken, alleen met het bijgeleverde bestand!"
   ]
  },
  {
   "cell_type": "code",
   "execution_count": 2,
   "metadata": {},
   "outputs": [
    {
     "ename": "IndentationError",
     "evalue": "expected an indented block (<ipython-input-2-9158fe3438be>, line 4)",
     "output_type": "error",
     "traceback": [
      "\u001b[1;36m  File \u001b[1;32m\"<ipython-input-2-9158fe3438be>\"\u001b[1;36m, line \u001b[1;32m4\u001b[0m\n\u001b[1;33m    remove_header()\u001b[0m\n\u001b[1;37m    ^\u001b[0m\n\u001b[1;31mIndentationError\u001b[0m\u001b[1;31m:\u001b[0m expected an indented block\n"
     ]
    }
   ],
   "source": [
    "def remove_header():\n",
    "    #TODO\n",
    "            \n",
    "remove_header()"
   ]
  },
  {
   "cell_type": "markdown",
   "metadata": {},
   "source": [
    "We kunnen nu weliswaar de data inlezen, maar wie goed naar de data kijkt ziet dat de data van 2020 niet compleet is. Door dat jaar toch mee te nemen krijgen we mogelijk een vertekend beeld. Schoon het bestand dus verder op door alle gegevens van 2020 uit het bestand te halen. De code die je schrijft moet werken voor elk willekeurig jaartal, dus geef het jaartal mee als parameter van de functie. Noem de nieuwe file climate3.txt.\n",
    "**Hint**: je bent nu specifiek geïnteresseerd in de datum, dus je zult elke regel moeten ontleden. Gebruik hiervoor de functie str.split. Schrijf je code in onderstaande cell."
   ]
  },
  {
   "cell_type": "code",
   "execution_count": null,
   "metadata": {},
   "outputs": [],
   "source": [
    "def removeYear(year):\n",
    "    #TODO\n",
    "                \n",
    "removeYear(2020)"
   ]
  },
  {
   "cell_type": "markdown",
   "metadata": {},
   "source": [
    "Ook bevat het bestand een aantal \"missing values\": data waarvoor geen gegevens bekend zijn. Deze gevallen kunnen de boel behoorlijk verstoren omdat ze een vertekend beeld kunnen geven van de data. We lossen dat in dit geval op door deze waarden te vervangen door de gemiddelde waarde van de volgende dag en de vorige dag. Let op! Deze strategie werkt niet voor sommige gevallen. Bedenk zelf welke dat zijn en verzin er een oplossing voor! De waarde voor een missing value verschilt per databestand; soms is dat een -1, soms een 0, afhankelijk van de waarden die 'natuurlijk' in de data voorkomen. In het geval van deze data wordt de missing value 9999 gebruikt, omdat de kans dat er een temperatuur van 999,9 graden gemeten wordt niet zo hoog is. Hou wel rekening met verschillende mogelijke waarden voor de missing value en schrijf hieronder de functie fill die als parameter de waarde van de missing value meekrijgt (in dit geval 9999).\n",
    "\n",
    "Deze preprocessing-stap bestaat uit drie delen:\n",
    "<ol>\n",
    "    <li>Het inlezen van de data <i>(gebruik hiervoor net als in de vorige opgave de functie <b>split</b>)</i></li>\n",
    "    <li>Het bewerken van de data <i>(vervang hier de missing values)</i></li>\n",
    "    <li>Het weer wegschrijven van de data <i>(vergeet niet dat de write-functie een string verwacht. Zet getallen eerst om met de functie str())</i></li>\n",
    "</ol>\n",
    "\n",
    "In het derde deel van de functie <i>fill</i> kunnen we de data wegschrijven zoals we die hebben aangetroffen, met data gescheiden door punt-komma's. Maar nu we zelf kunnen bepalen hoe we de data wegschrijven kunnen we dat meteen doen volgens het csv-formaat (zie uitleg boven). Schrijf de data dus weg gescheiden door komma's in plaats van door puntkomma's."
   ]
  },
  {
   "cell_type": "code",
   "execution_count": null,
   "metadata": {},
   "outputs": [],
   "source": [
    "def fill(missing_value):\n",
    "    #TODO\n",
    "fill(9999)"
   ]
  },
  {
   "cell_type": "markdown",
   "metadata": {},
   "source": [
    "## DictReader\n",
    "\n",
    "Omdat je nu een CSV-bestand hebt dat netjes in het juiste formaat staat kun je heel handig de DictReader gebruiken. Deze zorgt ervoor dat je voor een record alle informatie op **naam** kunt opzoeken. In onze dataset kun je dan bijvoorbeeld opvragen wat de DATE is, of wat de TX is. In het voorbeeld hieronder printen we alle kolomnamen (*field names*) en van elke regel de TX-waarde. Je kunt onderstaande code runnen om te checken of je CSV-bestand werkt.\n",
    "\n",
    "**Let op.** Je moet de cel bovenaan (met de `import`) een keer uitgevoerd hebben met **Run** voordat je onderstaande cel kunt runnen! Ook moet het CSV-bestand gevuld zijn met data."
   ]
  },
  {
   "cell_type": "code",
   "execution_count": null,
   "metadata": {},
   "outputs": [],
   "source": [
    "with open('climate.csv', \"r\") as sourceFile:\n",
    "    reader = csv.DictReader(sourceFile)\n",
    "    print(reader.fieldnames)\n",
    "    for line in reader:\n",
    "        print(line[\"TX\"])\n",
    "            "
   ]
  },
  {
   "cell_type": "markdown",
   "metadata": {},
   "source": [
    "Mocht het nou niet gelukt zijn met het bewerken en wegschrijven van de data, dan is het mogelijk om alle bovenstaande stappen met de hand uit te voeren. In deze studie leer je data automatisch te verwerken en als bovenstaande je goed is afgegaan is dat een goed begin. Maar als het nog niet helemaal goed gegaan is dan kan je vanaf hier verder gaan met de juiste file."
   ]
  },
  {
   "cell_type": "markdown",
   "metadata": {},
   "source": [
    "\n",
    "\n",
    "## Vraag 1a: Hoe ziet de data er sinds het begin van de metingen uit?\n",
    "\n",
    "Tijd voor wat analyse! We gaan onderzoeken wat de minimale, gemiddelde en maximale temperatuur gemeten is in De Bilt sinds het begin van de metingen, om een beeld te krijgen van de data. In het geval van deze data is het begin van de metingen bekend, maar het is een kleine moeite om je code generiek te maken. Maak in je code gebruik van een hulpfunctie die het beginjaar van de metingen teruggeeft.\n",
    "\n",
    "Schrijf in de cel hieronder code die `climate.csv` opent en doorleest en daarbij de minimale, gemiddelde en maximale temperatuur bijhoudt en uitprint. \n",
    "\n",
    "**Hint:** Aan het begin van je code moeten de variabelen die het minimum, gemiddelde en maximum een beginwaarde geven. Het gemiddelde kan worden geïnitialiseerd op 0, maar voor het minimum en maximum ophebben we initieel waarden nodig die respectivelijk kleiner en groter zijn dan de laagste en hoogste voorkomende waarden in die data. Maar als we die waarden zouden hebben zouden we ze niet uit hoeven te rekenen! Gelukkig kunnen we zonder het maximum te berekenen wel een aanname doen over welke waarden in ieder geval groter zijn dan dat maximum. In de library math is daarover nagedacht in de vorm van de oneindig grote waarde math.inf en diens tegenhanger -math.inf.\n",
    "\n",
    "Let op! Onderaan de cel staat een aantal assertions die testen of de variabelen wel voldoen aan een aantal basis-voorwaarden. Verander de gegeven variabelenamen niet! De assertions werken dan niet goed meer. Code die door de assertions komt hoeft overigens niet juist te zijn; de assertions testen alleen op de meest voor de hand liggende fouten. Uiteraard staat het je vrij om je eigen tests te schrijven."
   ]
  },
  {
   "cell_type": "code",
   "execution_count": null,
   "metadata": {},
   "outputs": [],
   "source": [
    "minimum = 0\n",
    "gemiddelde = 0\n",
    "maximum = 0\n",
    "\n",
    "#Opgave 1a\n",
    "\n",
    "print(\"Minimum: \", minimum)\n",
    "print(\"Gemiddelde: \", gemiddelde)\n",
    "print(\"Maximum: \", maximum)\n",
    "    "
   ]
  },
  {
   "cell_type": "code",
   "execution_count": null,
   "metadata": {},
   "outputs": [],
   "source": [
    "assert gemiddelde >= minimum\n",
    "assert gemiddelde <= maximum\n",
    "assert maximum >= minimum\n",
    "assert isinstance(minimum, int)\n",
    "assert isinstance(maximum, int)"
   ]
  },
  {
   "cell_type": "markdown",
   "metadata": {},
   "source": [
    "## Vraag 1b: Mediaan en Modus\n",
    "\n",
    "Zoals je ziet, is het gemiddelde in het bovenstaande voorbeeld een redelijke inschatting van het middenpunt tussen minimum en maximum: het gemiddelde is hier een goede 'centrummaat'. Dat wordt deels veroorzaakt doordat de data 'normaal verdeeld' is (meer informatie daarover bij het vak 'AMT' in de volgende periode). In sommige gevallen is het gemiddelde echter vrij gevoelig voor 'outliers', waarden die ongebruikelijk zijn. Stel bijvoorbeeld dat we bij de preprocessing waren vergeten om de missing values weg te halen; dan hadden ze met hun waarde van 9999 behoorlijk veel invloed op het gemiddelde gehad. Kortom: het gemiddelde is niet altijd een goede centrummaat. Er bestaan daarom twee andere veelgebruikte maten: de mediaan en de modus. De modus is het meest voorkomende getal en de mediaan is het middelste getal als je alle getallen op volgorde van grootte zet. Bijvoorbeeld: van de reeks 9 3 1 7 1 is de modus 1 en de mediaan 3 (want het midden van 1 1 3 7 9). Is dit voorbeeld je niet duidelijk, kijk dan op https://nl.wikipedia.org/wiki/Modus_(statistiek) of https://nl.wikipedia.org/wiki/Mediaan_(statistiek)\n",
    "\n",
    "Bereken in de onderstaande cel de modus en de mediaan en print ze uit. Het is niet toegestaan gebruik te maken van de module 'statistics' of andere ingebouwde python-functies om mediaan of modus te berekenen."
   ]
  },
  {
   "cell_type": "code",
   "execution_count": null,
   "metadata": {},
   "outputs": [],
   "source": [
    "mediaan = 0\n",
    "modus = 0\n",
    "\n",
    "#Opgave 1b\n",
    "            \n",
    "print(\"Mediaan: \", mediaan)\n",
    "print(\"Modus: \", modus)  \n",
    "        "
   ]
  },
  {
   "cell_type": "code",
   "execution_count": null,
   "metadata": {},
   "outputs": [],
   "source": [
    "assert mediaan >= minimum\n",
    "assert mediaan <= maximum\n",
    "\n",
    "assert modus >= minimum\n",
    "assert modus <= maximum\n",
    "\n",
    "assert isinstance(mediaan, int)\n",
    "assert isinstance(modus, int)"
   ]
  },
  {
   "cell_type": "markdown",
   "metadata": {},
   "source": [
    "Welke centrummaat geeft het beste het middenpunt tussen minimum en maximum weer?"
   ]
  },
  {
   "cell_type": "raw",
   "metadata": {},
   "source": []
  },
  {
   "cell_type": "markdown",
   "metadata": {},
   "source": [
    "We weten nu hoe de data er ongeveer uitziet, maar om uitspraken te doen over of de Aarde opwarmt of niet is het nodig de data per jaar te bekijken. Dat gaan we in de volgende opgave doen."
   ]
  },
  {
   "cell_type": "markdown",
   "metadata": {},
   "source": [
    "## Vraag 2: Wat zijn de maxima en minima per jaar?\n",
    "\n",
    "In deze opgave gaan we de minimum- en maximum-waarden voor de temperatuur per jaar onderzoeken. We verwachten dat beiden in de loop der tijd zijn toegenomen, maar zonder dat ook daadwerkelijk onderzocht te hebben kunnen we dat niet beweren. Eigenlijk kunnen we dat dan nog steeds niet beweren, want we onderzoeken hier alleen de meetwaarden van één station, maar het analyseren van de volledige data van het ECA zou hier te ingewikkeld worden...\n",
    "\n",
    "De bedoeling is om code te schrijven die per jaar sinds het begin van de metingen de volgende zin produceert:\n",
    "\n",
    "    In 1967 varieerde de temperatuur tussen -11.2 graden op 18 Juni en 37.4 graden op 25 Maart\n",
    "\n",
    "Bovenstaande antwoorden zijn natuurlijk fout, je moet zelf de juiste waarden vinden. Om je wat extra uit te dagen willen we ook de datum in het bovenstaande formaat hebben, met de maanden niet in cijfers, maar in letters. Het is handig om hier een aparte functie voor te schrijven!\n",
    "\n",
    "Een manier om dit aan te pakken is door steeds alleen de gegevens per jaar in te lezen. Je mag er vanuit gaan dat de temperaturen in de dataset op volgorde worden gegeven. \n",
    "\n",
    "**Hint:** Hou in een variabele bij met welk jaar je bezig bent.\n",
    "\n",
    "Let op: omdat je hier heel wat berekeningen moet doen kan het (afhankelijk van je laptop) even duren voordat je resultaat ziet. Gebeurt er bij het draaien niets?  Ga dan eerst koffie halen en stel pas een vraag als er nog niets is gebeurd als je terugkomt."
   ]
  },
  {
   "cell_type": "code",
   "execution_count": null,
   "metadata": {},
   "outputs": [],
   "source": [
    "#Opgave 2"
   ]
  },
  {
   "cell_type": "markdown",
   "metadata": {},
   "source": [
    "In onderstaande cel vind je code die de gegevens die je in deze vraag hebt gegenereerd omzet in een scatterplot (oftewel: een puntgrafiek). De code gaat ervanuit dat je de minimale waarden per jaar hebt opgeslagen in een lijst met de naam \"minima\" en de maximale waarden in een lijst met de naam \"maxima\". Elk blauw stipje is een meetpunt en omdat het met het blote oog slecht zichtbaar is hebben we de trendontwikkeling van de temperatuur door de jaren heen in de figuur weergegeven. Trek zelf je conclusies...\n",
    "\n",
    "Let op! Ook dit deel van de opgave kan weer even duren."
   ]
  },
  {
   "cell_type": "code",
   "execution_count": 1,
   "metadata": {},
   "outputs": [
    {
     "ename": "NameError",
     "evalue": "name 'np' is not defined",
     "output_type": "error",
     "traceback": [
      "\u001b[1;31m---------------------------------------------------------------------------\u001b[0m",
      "\u001b[1;31mNameError\u001b[0m                                 Traceback (most recent call last)",
      "\u001b[1;32m<ipython-input-1-aca6c0257af3>\u001b[0m in \u001b[0;36m<module>\u001b[1;34m\u001b[0m\n\u001b[1;32m----> 1\u001b[1;33m \u001b[0mx\u001b[0m \u001b[1;33m=\u001b[0m \u001b[0mnp\u001b[0m\u001b[1;33m.\u001b[0m\u001b[0marange\u001b[0m\u001b[1;33m(\u001b[0m\u001b[1;36m1901\u001b[0m\u001b[1;33m,\u001b[0m \u001b[0mcurrentyear\u001b[0m\u001b[1;33m+\u001b[0m\u001b[1;36m1\u001b[0m\u001b[1;33m,\u001b[0m \u001b[1;36m1\u001b[0m\u001b[1;33m)\u001b[0m\u001b[1;33m\u001b[0m\u001b[1;33m\u001b[0m\u001b[0m\n\u001b[0m\u001b[0;32m      2\u001b[0m \u001b[1;33m\u001b[0m\u001b[0m\n\u001b[0;32m      3\u001b[0m \u001b[0mfig\u001b[0m\u001b[1;33m,\u001b[0m \u001b[1;33m(\u001b[0m\u001b[0max1\u001b[0m\u001b[1;33m,\u001b[0m \u001b[0max2\u001b[0m\u001b[1;33m)\u001b[0m \u001b[1;33m=\u001b[0m \u001b[0mplt\u001b[0m\u001b[1;33m.\u001b[0m\u001b[0msubplots\u001b[0m\u001b[1;33m(\u001b[0m\u001b[0mnrows\u001b[0m\u001b[1;33m=\u001b[0m\u001b[1;36m1\u001b[0m\u001b[1;33m,\u001b[0m \u001b[0mncols\u001b[0m\u001b[1;33m=\u001b[0m\u001b[1;36m2\u001b[0m\u001b[1;33m)\u001b[0m\u001b[1;33m\u001b[0m\u001b[1;33m\u001b[0m\u001b[0m\n\u001b[0;32m      4\u001b[0m \u001b[0max1\u001b[0m\u001b[1;33m.\u001b[0m\u001b[0mset_xlabel\u001b[0m\u001b[1;33m(\u001b[0m\u001b[1;34m'Year'\u001b[0m\u001b[1;33m,\u001b[0m \u001b[0mfontdict\u001b[0m\u001b[1;33m=\u001b[0m\u001b[1;33m{\u001b[0m\u001b[1;34m'fontsize'\u001b[0m \u001b[1;33m:\u001b[0m \u001b[1;36m36\u001b[0m\u001b[1;33m}\u001b[0m\u001b[1;33m)\u001b[0m\u001b[1;33m\u001b[0m\u001b[1;33m\u001b[0m\u001b[0m\n\u001b[0;32m      5\u001b[0m \u001b[0max1\u001b[0m\u001b[1;33m.\u001b[0m\u001b[0mset_ylabel\u001b[0m\u001b[1;33m(\u001b[0m\u001b[1;34m'Minimum temperature (degrees celsius)'\u001b[0m\u001b[1;33m,\u001b[0m \u001b[0mfontdict\u001b[0m\u001b[1;33m=\u001b[0m\u001b[1;33m{\u001b[0m\u001b[1;34m'fontsize'\u001b[0m \u001b[1;33m:\u001b[0m \u001b[1;36m36\u001b[0m\u001b[1;33m}\u001b[0m\u001b[1;33m)\u001b[0m\u001b[1;33m\u001b[0m\u001b[1;33m\u001b[0m\u001b[0m\n",
      "\u001b[1;31mNameError\u001b[0m: name 'np' is not defined"
     ]
    }
   ],
   "source": [
    "x = np.arange(1901, currentyear+1, 1)\n",
    "\n",
    "fig, (ax1, ax2) = plt.subplots(nrows=1, ncols=2)\n",
    "ax1.set_xlabel('Year', fontdict={'fontsize' : 36})\n",
    "ax1.set_ylabel('Minimum temperature (degrees celsius)', fontdict={'fontsize' : 36})\n",
    "ax2.set_xlabel('Year', fontdict={'fontsize' : 36})\n",
    "ax2.set_ylabel('Maximum temperature (degrees celsius)', fontdict={'fontsize' : 36})\n",
    "fig.set_size_inches(35, 15)\n",
    "sns.regplot(x, np.array(minima)/10, ax = ax1)\n",
    "sns.regplot(x, np.array(maxima)/10, ax = ax2)"
   ]
  },
  {
   "cell_type": "markdown",
   "metadata": {},
   "source": [
    "## Vraag 3: Hoe lang was per jaar de langste hittegolf?\n",
    "\n",
    "Als we de berichten in de media mogen geloven dan gaat de klimaatverandering niet alleen gepaard met toenemende temperaturen, maar ook met extreme temperaturen. Of dat klopt onderzoeken we in deze vraag. Net als in de vorige vraag bepalen we **per jaar** hoe lang de langste hittegolf duurde.\n",
    "\n",
    "De definitie van een hittegolf is als volgt: voor een hittegolf moet het vijf aaneengesloten dagen warmer zijn dan 25 graden, waarvan drie dagen meer dan 30 graden\n",
    "\n",
    "Schrijf in de cel hieronder code die per jaar de lengte van de langste hittegolf geeft. Elke regel tekst volgt het volgende voorbeeld:\n",
    "\n",
    "    In 2012 duurde de langste hittegolf 12 dagen.\n",
    "    \n",
    "Uiteraard zijn de waarden die in dit voorbeeld genoemd worden niet noodzakelijk correct!\n",
    "\n",
    "Wanneerer in een jaar geen hittegolf heeft plaatsgevonden, druk dat dan ook niet af!"
   ]
  },
  {
   "cell_type": "code",
   "execution_count": null,
   "metadata": {},
   "outputs": [],
   "source": [
    "hittegolven = []\n",
    "#Opgave 3"
   ]
  },
  {
   "cell_type": "markdown",
   "metadata": {},
   "source": [
    "In onderstaande cel vind je wederom code die de gegevens die je in deze vraag hebt gegenereerd omzet in een scatterplot. De code gaat ervanuit dat je de lengte van hittegolven hebt opgeslagen in een lijst met de naam \"hittegolven\". Elk blauw stipje is een meetpunt en omdat het met het blote oog slecht zichtbaar is hebben we de trendontwikkeling van de lengte van hittegolven door de jaren heen in de figuur weergegeven. Trek zelf je conclusies...\n",
    "\n",
    "Let op! Ook dit deel van de opgave kan weer even duren."
   ]
  },
  {
   "cell_type": "code",
   "execution_count": null,
   "metadata": {
    "scrolled": true
   },
   "outputs": [],
   "source": [
    "x = np.arange(1901, currentyear+1, 1)\n",
    "\n",
    "ax = plt.gca()\n",
    "ax.set_xlabel('Year', fontdict={'fontsize' : 24})\n",
    "ax.set_ylabel('Lengte Hittengolven', fontdict={'fontsize' : 24})\n",
    "sns.regplot(x, np.array(hittegolven), ax)"
   ]
  },
  {
   "cell_type": "markdown",
   "metadata": {},
   "source": [
    "## Vraag 4: Outliers detecteren\n",
    "\n",
    "Je kent het waarschijnlijk wel: als er een koud jaar is, dan hoor je klimaatsceptici al snel roepen 'Zie je wel: het valt wel mee met die klimaatverandering.' Andersom is het natuurlijk ook waar: mensen die geloven dat de mens verantwoordelijk is voor de klimaatverandering zijn al snel geneugd een warme periode op te vatten als een onderbouwing daarvan, terwijl het al dan niet bestaan van klimaatverandering alleen op de lange termijn kan worden vastgesteld.\n",
    "\n",
    "Elke dataset heeft outliers: datapunten met waarden die zo afwijken van wat we verwachten dat we ze liever niet meenemen in onze analyse. De officiele definitie is 'een statistische observatie die aantoonbaar afwijkt van de andere waarden'. Wat 'aantoonbaar' is, is echter voor discussie vatbaar. In deze opgave definiëren we outliers als punten die meer dan 3 'standaarddeviaties' afwijken van het gemiddelde. Voor diegenen die dit begrip niet kennen: de standaarddeviatie $\\sigma$ is een maat voor de mate waarin data 'varieert', en wordt berekend met de volgende formule:\n",
    "\n",
    "$$\\sigma = \\sqrt{\\frac{\\sum{(X-\\mu)^2}}{N}}$$\n",
    "\n",
    "In woorden: de standaarddeviatie is de wortel van de som ($\\sum$) van het kwadraat van de verschillen van elk datapunt met het gemiddeld ($\\mu$), gedeeld door het aantal datapunten *N*. N is het aantal meetwaarden in een jaar (meestal 365, maar vergeet de schrikkeljaren niet!).\n",
    "\n",
    "Schrijf in de cel hieronder code die, gegeven data in de vorm van een lijst, in tekstvorm rapporteert wat de outliers zijn (als die er zijn). De tekst heeft het volgende formaat: \"Met 2507 is de waarde op 23 augustus 1909 een outlier\"\n",
    "\n",
    "Let op: deze opgave is wat ingewikkelder en het is daarom extra belangrijk dat je goed nadenkt over het 'ontwerp' van je opgave. Denk goed na over uit welke componenten je code moet bestaan, implemnteer elke component op zich en maak je dan pas druk over de integratie van al je code. **Alvast een hint:** Omdat in deze opgave meerdere keren de data wordt doorlopen is het de moeite waard om die één keer in te lezen en dan weg te schrijven naar een lokale variabele."
   ]
  },
  {
   "cell_type": "code",
   "execution_count": null,
   "metadata": {},
   "outputs": [],
   "source": [
    "#Opgave 4 \n",
    "        "
   ]
  },
  {
   "cell_type": "markdown",
   "metadata": {},
   "source": [
    "## Tot slot\n",
    "\n",
    "Notebooks hebben de vervelende eigenschap dat als je code verandert, dat niet meteen ververst wordt in de output van de rest van het notebook. Het kan zijn dat je denkt dat code goed is, maar dat je door een wijziging eerder in de file zonder dat je het doorhebt een bug hebt geïntroduceerd. Er is maar één manier om dat te voorkomen: maak er een gewoonte van om voordat je een notebook inlevert altijd eerst de Kernel (en daarmee het geheugen van de notebook) te herstarten en alle code opnieuw te draaien. Dat doe je door in het menu te kiezen voor **Kernel -> Restart & Run all**. Is alles dan zoals je verwacht? Lever het dan gerust in in de wetenschap dat degene die het nakijkt hetzelfde ziet als jij."
   ]
  }
 ],
 "metadata": {
  "kernelspec": {
   "display_name": "Python 3",
   "language": "python",
   "name": "python3"
  },
  "language_info": {
   "codemirror_mode": {
    "name": "ipython",
    "version": 3
   },
   "file_extension": ".py",
   "mimetype": "text/x-python",
   "name": "python",
   "nbconvert_exporter": "python",
   "pygments_lexer": "ipython3",
   "version": "3.9.0"
  }
 },
 "nbformat": 4,
 "nbformat_minor": 2
}
